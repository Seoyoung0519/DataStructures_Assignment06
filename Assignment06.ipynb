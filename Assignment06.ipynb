{
  "nbformat": 4,
  "nbformat_minor": 0,
  "metadata": {
    "colab": {
      "provenance": [],
      "authorship_tag": "ABX9TyMgeb3GvX9pYNgS/b03heRH",
      "include_colab_link": true
    },
    "kernelspec": {
      "name": "python3",
      "display_name": "Python 3"
    },
    "language_info": {
      "name": "python"
    }
  },
  "cells": [
    {
      "cell_type": "markdown",
      "metadata": {
        "id": "view-in-github",
        "colab_type": "text"
      },
      "source": [
        "<a href=\"https://colab.research.google.com/github/Seoyoung0519/DataStructures_Assignment06/blob/main/Assignment06.ipynb\" target=\"_parent\"><img src=\"https://colab.research.google.com/assets/colab-badge.svg\" alt=\"Open In Colab\"/></a>"
      ]
    },
    {
      "cell_type": "markdown",
      "source": [
        "# 수행 과제 3"
      ],
      "metadata": {
        "id": "cl5SWrY-W4u3"
      }
    },
    {
      "cell_type": "code",
      "source": [
        "import pandas as pd\n",
        "import datetime\n",
        "\n",
        "# GitHub에서 CSV 불러오기\n",
        "url = \"https://github.com/Seoyoung0519/DataStructures_Assignment06/raw/refs/heads/main/birthday.csv\"\n",
        "df = pd.read_csv(url, encoding='cp949')\n",
        "\n",
        "# 생년월일 컬럼 정제\n",
        "df.columns = df.columns.str.strip()\n",
        "df['생년월일8자리(예.20040101)'] = df['생년월일8자리(예.20040101)'].fillna(0).astype(int)\n",
        "\n",
        "# 날짜 유효성 검사\n",
        "def is_valid_date(date_int):\n",
        "    try:\n",
        "        date_str = str(date_int)\n",
        "        if len(date_str) != 8:\n",
        "            return False\n",
        "        year = int(date_str[:4])\n",
        "        month = int(date_str[4:6])\n",
        "        day = int(date_str[6:8])\n",
        "        datetime.datetime(year, month, day)\n",
        "        return True\n",
        "    except:\n",
        "        return False\n",
        "\n",
        "# Heap 클래스\n",
        "class Heap:\n",
        "    def __init__(self, *args):\n",
        "        self.__A = args[0] if args else []\n",
        "\n",
        "    def insert(self, x):\n",
        "        self.__A.append(x)\n",
        "        self.__percolateUp(len(self.__A) - 1)\n",
        "\n",
        "    def __percolateUp(self, i):\n",
        "        parent = (i - 1) // 2\n",
        "        if i > 0 and self.__A[i] > self.__A[parent]:\n",
        "            self.__A[i], self.__A[parent] = self.__A[parent], self.__A[i]\n",
        "            self.__percolateUp(parent)\n",
        "\n",
        "    def deleteMax(self):\n",
        "        if self.isEmpty():\n",
        "            return None\n",
        "        max_item = self.__A[0]\n",
        "        self.__A[0] = self.__A.pop()\n",
        "        self.__percolateDown(0)\n",
        "        return max_item\n",
        "\n",
        "    def __percolateDown(self, i):\n",
        "        child = 2 * i + 1\n",
        "        right = 2 * i + 2\n",
        "        if child <= len(self.__A) - 1:\n",
        "            if right <= len(self.__A) - 1 and self.__A[child] < self.__A[right]:\n",
        "                child = right\n",
        "            if self.__A[i] < self.__A[child]:\n",
        "                self.__A[i], self.__A[child] = self.__A[child], self.__A[i]\n",
        "                self.__percolateDown(child)\n",
        "\n",
        "    def isEmpty(self):\n",
        "        return len(self.__A) == 0\n",
        "\n",
        "    def size(self):\n",
        "        return len(self.__A)\n",
        "\n",
        "# 힙 생성 및 유효한 생일만 삽입\n",
        "heap = Heap()\n",
        "for _, row in df.iterrows():\n",
        "    name = row['이름']\n",
        "    birth = int(row['생년월일8자리(예.20040101)'])\n",
        "    if is_valid_date(birth):\n",
        "        heap.insert((birth, name))\n",
        "\n",
        "# 생일이 늦은 친구 10명 출력\n",
        "for i in range(min(10, heap.size())):\n",
        "    birth, name = heap.deleteMax()\n",
        "    print(f\"이름: {name}, 생년월일: {birth}\")\n"
      ],
      "metadata": {
        "colab": {
          "base_uri": "https://localhost:8080/"
        },
        "id": "XEE0EMMAokXl",
        "outputId": "6bded09d-aa6d-4f4d-f0a0-1f92fd81e7ec"
      },
      "execution_count": 2,
      "outputs": [
        {
          "output_type": "stream",
          "name": "stdout",
          "text": [
            "이름: 신수민, 생년월일: 20051230\n",
            "이름: 이서영, 생년월일: 20051225\n",
            "이름: 강민주, 생년월일: 20051214\n",
            "이름: 김민경, 생년월일: 20051202\n",
            "이름: 이서영, 생년월일: 20051112\n",
            "이름: 배시은, 생년월일: 20051102\n",
            "이름: 김여원, 생년월일: 20051031\n",
            "이름: 이서진, 생년월일: 20051028\n",
            "이름: 서홍빈, 생년월일: 20051024\n",
            "이름: 김예빈, 생년월일: 20051019\n"
          ]
        }
      ]
    },
    {
      "cell_type": "markdown",
      "source": [
        "# 수행 과제 4\n"
      ],
      "metadata": {
        "id": "J8kUe2QbXIEe"
      }
    },
    {
      "cell_type": "code",
      "source": [
        "import pandas as pd\n",
        "import datetime\n",
        "\n",
        "class BidirectNode:\n",
        "  def __init__(self, x, prevNode: 'BidirectNode', nextNode: 'BidirectNode'):\n",
        "    self.item = x\n",
        "    self.prev = prevNode\n",
        "    self.next = nextNode\n",
        "\n",
        "class CircularDoublyLinkedList:\n",
        "\tdef __init__(self):\n",
        "\t\tself.__head = BidirectNode(\"dummy\", None, None)\n",
        "\t\tself.__head.prev = self.__head\n",
        "\t\tself.__head.next = self.__head\n",
        "\t\tself.__numItems = 0\n",
        "\n",
        "\tdef insert(self, i:int, newItem) -> None:\n",
        "\t\tif (i >= 0 and i <= self.__numItems):\n",
        "\t\t\tprev = self.getNode(i - 1)\n",
        "\t\t\tnewNode = BidirectNode(newItem, prev, prev.next)\n",
        "\t\t\tnewNode.next.prev = newNode\n",
        "\t\t\tprev.next = newNode\n",
        "\t\t\tself.__numItems += 1\n",
        "\t\telse:\n",
        "\t\t\tprint(\"index\", i, \": out of bound in insert()\") # 필요 시 에러 처리\n",
        "\n",
        "\tdef append(self, newItem) -> None:\n",
        "\t\tprev = self.__head.prev\n",
        "\t\tnewNode = BidirectNode(newItem, prev, self.__head)\n",
        "\t\tprev.next = newNode\n",
        "\t\tself.__head.prev = newNode\n",
        "\t\tself.__numItems += 1\n",
        "\n",
        "\tdef pop(self, *args):\n",
        "\t\t# 가변 파라미터. 인자가 없거나 -1이면 마지막 원소로 처리하기 위함. 파이썬 리스트 규칙 만족\n",
        "\t\tif self.isEmpty():\n",
        "\t\t\treturn None\n",
        "\t\t# 인덱스 i 결정\n",
        "\t\tif len(args) != 0: # pop(k)과 같이 인자가 있으면 i = k 할당\n",
        "\t\t\ti = args[0]\n",
        "\t\tif len(args) == 0 or i == -1:# pop()에 인자가 없거나 pop(-1)이면 i에 맨 끝 인덱스 할당\n",
        "\t\t\ti = self.__numItems - 1\n",
        "\t\t# i번 원소 삭제\n",
        "\t\tif (i >= 0 and i <= self.__numItems - 1):\n",
        "\t\t\tcurr = self.getNode(i)\n",
        "\t\t\tretItem = curr.item\n",
        "\t\t\tcurr.prev.next = curr.next\n",
        "\t\t\tcurr.next.prev = curr.prev\n",
        "\t\t\tself.__numItems -= 1\n",
        "\t\t\treturn retItem\n",
        "\t\telse:\n",
        "\t\t\treturn None\n",
        "\n",
        "\tdef remove(self, x):\n",
        "\t\tcurr = self.__findNode(x)\n",
        "\t\tif curr != None:\n",
        "\t\t\tcurr.prev.next = curr.next\n",
        "\t\t\tcurr.next.prev = curr.prev\n",
        "\t\t\tself.__numItems -= 1\n",
        "\t\t\treturn x\n",
        "\t\telse:\n",
        "\t\t\treturn None\n",
        "\n",
        "\tdef get(self, *args):\n",
        "\t\t# 가변 파라미터. 인자가 없거나 -1이면 마지막 원소로 처리하기 위함. 파이썬 리스트 규칙 만족\n",
        "\t\tif self.isEmpty(): return None\n",
        "\t\t# 인덱스 i 결정\n",
        "\t\tif len(args) != 0:   # pop(k)과 같이 인자가 있으면 i = k 할당\n",
        "\t\t\ti = args[0]\n",
        "\t\tif len(args) == 0 or i == -1: # pop()에 인자가 없거나 pop(-1)이면 i에 맨 끝 인덱스 할당\n",
        "\t\t  i = self.__numItems - 1\n",
        "\t\t# i번 원소 리턴\n",
        "\t\tif (i >= 0 and i <= self.__numItems - 1):\n",
        "\t\t\treturn self.getNode(i).item\n",
        "\t\telse:\n",
        "\t\t\treturn None\n",
        "\n",
        "\tdef index(self, x) -> int:\n",
        "\t\tcnt = 0\n",
        "\t\tfor element in self:\n",
        "\t\t\tif element == x:\n",
        "\t\t\t\treturn cnt\n",
        "\t\t\tcnt += 1\n",
        "\t\treturn -12345\n",
        "\n",
        "\tdef isEmpty(self) -> bool:\n",
        "\t\treturn self.__numItems == 0\n",
        "\n",
        "\tdef size(self) -> int:\n",
        "\t\treturn self.__numItems\n",
        "\n",
        "\tdef clear(self):\n",
        "\t\tself.__head = BidirectNode(\"dummy\", None, None)\n",
        "\t\tself.__head.prev = self.__head\n",
        "\t\tself.__head.next = self.__head\n",
        "\t\tself.__numItems = 0\n",
        "\n",
        "\tdef count(self, x) -> int:\n",
        "\t\tcnt = 0\n",
        "\t\tfor element in self:\n",
        "\t\t\tif element == x:\n",
        "\t\t\t\t\tcnt += 1\n",
        "\t\treturn cnt\n",
        "\n",
        "\tdef extend(self, a): # a는 순회 가능한 모든 객체\n",
        "\t\tfor element in a:\n",
        "\t\t\tself.append(element)\n",
        "\n",
        "\tdef copy(self) -> 'CircularDoublyLinkedList':\n",
        "\t\ta = CircularDoublyLinkedList()\n",
        "\t\tfor element in self:\n",
        "\t\t\ta.append(element)\n",
        "\t\treturn a\n",
        "\n",
        "\tdef reverse(self) -> None:\n",
        "\t\tprev = self.__head; curr = prev.next; next = curr.next\n",
        "\t\tself.__head.next = prev.prev; self.__head.prev = curr\n",
        "\t\tfor i in range(self.__numItems):\n",
        "\t\t\tcurr.next = prev; curr.prev = next\n",
        "\t\t\tprev = curr; curr = next; next = next.next\n",
        "\n",
        "\tdef sort(self) -> None:\n",
        "\t\ta = []\n",
        "\t\tfor element in self:\n",
        "\t\t\ta.append(element)\n",
        "\t\ta.sort()\n",
        "\t\tself.clear()\n",
        "\t\tfor element in a:\n",
        "\t\t\tself.append(element)\n",
        "\n",
        "\tdef __findNode(self, x) -> BidirectNode:\n",
        "\t\tcurr = self.__head.next  # 0번 노드\n",
        "\t\twhile curr != self.__head:\n",
        "\n",
        "\t\t\tif curr.item == x:\n",
        "\t\t\t\treturn curr\n",
        "\t\t\telse:\n",
        "\t\t\t\tcurr = curr.next\n",
        "\t\treturn None\n",
        "\n",
        "\tdef getNode(self, i:int) -> BidirectNode:\n",
        "\t\tcurr = self.__head  # 더미 헤드, index: -1\n",
        "\t\tfor index in range(i + 1):\n",
        "\t\t\tcurr = curr.next\n",
        "\t\treturn curr\n",
        "\n",
        "\tdef printList(self) -> None:\n",
        "\t\tfor element in self:\n",
        "\t\t\tprint(element, end = ' ')\n",
        "\t\tprint()\n",
        "\n",
        "\tdef __iter__(self):  # generating iterator and return\n",
        "\t\treturn CircularDoublyLinkedListIterator(self) # Corrected indentation here\n",
        "\n",
        "class CircularDoublyLinkedListIterator:\n",
        "\tdef __init__(self, alist):\n",
        "\t\tself.__head = alist.getNode(-1)  \t\t# 더미 헤드\n",
        "\t\tself.iterPosition = self.__head.next  \t# 0번 노드\n",
        "\tdef __next__(self):\n",
        "\t\tif self.iterPosition == self.__head: \t# 순환 끝\n",
        "\t\t\traise StopIteration\n",
        "\t\telse: # 현재 원소를 리턴하면서 다음 원소로 이동\n",
        "\t\t\titem = self.iterPosition.item\n",
        "\t\t\tself.iterPosition = self.iterPosition.next\n",
        "\t\t\treturn item\n",
        "\n",
        "# 생일 데이터 로딩 (GitHub raw 링크 사용!)\n",
        "url = 'https://github.com/Seoyoung0519/DataStructures_Assignment06/raw/refs/heads/main/birthday.csv'\n",
        "df = pd.read_csv(url, encoding='cp949')\n",
        "df.columns = df.columns.str.strip()\n",
        "df['생년월일8자리(예.20040101)'] = df['생년월일8자리(예.20040101)'].fillna(0).astype(int)\n",
        "\n",
        "# CircularDoublyLinkedList 인스턴스 생성\n",
        "cdll = CircularDoublyLinkedList()\n",
        "\n",
        "# 리스트에 (이름, 생일) 튜플 삽입\n",
        "for _, row in df.iterrows():\n",
        "    name = row['이름']\n",
        "    birth = int(row['생년월일8자리(예.20040101)'])\n",
        "    cdll.append((name, birth))\n",
        "\n",
        "# 출력할 친구 리스트\n",
        "target_names = [\n",
        "    '조예진', '김주영', '오다현', '이진서', '김여원', '김수련', '김민영',\n",
        "    '윤서영', '허재희', '김다연', '안소형', '주민진', '김도경', '홍지연', '김채린'\n",
        "]\n",
        "\n",
        "# 출력\n",
        "for item in cdll:\n",
        "    name, birth = item\n",
        "    if name in target_names:\n",
        "        print(f\"이름: {name}, 생년월일: {birth}\")\n"
      ],
      "metadata": {
        "colab": {
          "base_uri": "https://localhost:8080/"
        },
        "id": "okS1e91Nuclb",
        "outputId": "8091a9f2-931e-49f3-c851-80e35a292621"
      },
      "execution_count": 1,
      "outputs": [
        {
          "output_type": "stream",
          "name": "stdout",
          "text": [
            "이름: 김다연, 생년월일: 20030304\n",
            "이름: 김도경, 생년월일: 20050923\n",
            "이름: 김민영, 생년월일: 20040210\n",
            "이름: 김수련, 생년월일: 20030110\n",
            "이름: 김여원, 생년월일: 20051031\n",
            "이름: 김주영, 생년월일: 20000922\n",
            "이름: 김채린, 생년월일: 20050123\n",
            "이름: 안소형, 생년월일: 20031022\n",
            "이름: 오다현, 생년월일: 20020505\n",
            "이름: 윤서영, 생년월일: 20050519\n",
            "이름: 이진서, 생년월일: 20040327\n",
            "이름: 조예진, 생년월일: 20040509\n",
            "이름: 허재희, 생년월일: 20050621\n",
            "이름: 홍지연, 생년월일: 20050203\n"
          ]
        }
      ]
    },
    {
      "cell_type": "markdown",
      "source": [
        "# 수행 과제 5: [Chapter08.우선순위 큐] 연습문제"
      ],
      "metadata": {
        "id": "aCB2DyMAXK6Y"
      }
    },
    {
      "cell_type": "markdown",
      "source": [
        "##01\n",
        "\n",
        "임의의 최대 힙에서 더 얕은 곳에 있는 원소가 더 깊은 곳에 있는 원소보다 더 작은 값을 가질 수 있다.\n",
        "\n",
        "---\n",
        "\n",
        "\n",
        "\n",
        "부모 노드와 자식노드의 관계에서는 부모 노드의 값이 자식 노드의 값보다 항상 크거나 같아야 하지만 그 외 예를 들어 특정 노드와 해당 노드의 형제 노드에 대한 자식 노드 사이에는 부모와 자식 노드처럼 제약이 없다.\n",
        "예를 들어보면, heap[1] = 7, heap[2] = 10, heap[5] = 9인 힙이 있다. heap[1]과 heap[2]는 깊이가 같고, heap[5]는 heap[1]보다 깊이가 깊지만 값은 작다. heap[5]는 heap[2]의 자식 노드로, heap[2] > heap[5]이기 때문에 힙의 조건을 만족한다."
      ],
      "metadata": {
        "id": "UjC2F37Gxseq"
      }
    },
    {
      "cell_type": "markdown",
      "source": [
        "##02\n",
        "\n",
        "최대 힙의 마지막 원소가 항상 가장 작은 값은 아니다.\n",
        "\n",
        "\n",
        "---\n",
        "\n",
        "\n",
        "예를 들어 heap[0] = 10, heap[1] = 7, heap[2] = 9이고 이 두 노드가 말단 노드인 힙이 있다고 한다. 이 힙은 heap[0] > heap[1], heap[0] > heap[2]가 되어 힙의 조건을 만족하는데 heap[n-2] < heap[n-1]이기 때문에 힙의 마지막 원소가 가장 작은 값이 아니다."
      ],
      "metadata": {
        "id": "Qpxr0SflzUHQ"
      }
    },
    {
      "cell_type": "markdown",
      "source": [
        "##03\n",
        "\n",
        "(n-1)-(n-2)//2개\n",
        "\n",
        "---\n",
        "\n",
        "\n",
        "길이가 n인 임의의 리스트를 힙으로 만들 때, 마지막 요소의 인덱스는 n-1이다. 따라서 인덱스가 (n-2)//2부터 0까지의 인덱스를 갖는 요소를 대상으로 스며내리기를 진행한다.\n",
        "즉, 루트의 자격으로 스며내리기를 할지 알아보지 않고 그냥 넘어가는 원소 수는 정확하게 (n-1)-(n-2)//2개이다."
      ],
      "metadata": {
        "id": "x_DI02GS1D3s"
      }
    },
    {
      "cell_type": "markdown",
      "source": [
        "##04\n",
        "\n",
        "길이가 n인 리스트를 대상으로 하는 스며내리기 알고리즘에서 최악의 경우 Θ(logn)의 시간이 소요되고 최선의 경우에는 Θ(1)의 시간이 소요된다.\n",
        ""
      ],
      "metadata": {
        "id": "xFrW8SZm1kor"
      }
    },
    {
      "cell_type": "markdown",
      "source": [
        "##05\n",
        "\n",
        "힙의 맨 마지막 원소를 삭제하는 작업은 매우 간단하다.\n",
        "\n",
        "---\n",
        "\n",
        "\n",
        "\n",
        "힙에서 일반적인 삭제인 루트 노드의 원소 삭제 과정은 마지막 원소를 루트로 옮기고 heapify를 필요로 하여 O(log n)의 시간복잡도를 갖는다.\n",
        "\n",
        "그러나 힙에서 맨 마지막 원소를 삭제한다면 단순히 배열의 마지막 원소 제거하는 것이기 때문에 별도의 재정렬을 할 필요가 없으며 O(1)의 시간복잡도를 갖는다."
      ],
      "metadata": {
        "id": "dLVWo_3j2Phz"
      }
    },
    {
      "cell_type": "markdown",
      "source": [
        "##06\n",
        "\n",
        "위쪽에서 시작하여 스며오르기를 반복하는 방법은 Θ(nlogn), 아래쪽에서부터 시작해서 스며내리기를 반복하는 방법(본문에서 제시한 방법)은 Θ(n)의 시간이 소요된다. 따라서 위쪽에서 시작하여 스며오르기를 반복하는 방법은 본문에 제시한 방법에 비해 효율적이지 않다.\n",
        "\n",
        "\n",
        "---\n",
        "\n",
        "\n",
        "\n",
        "위쪽부터 시작해서 스며오르기를 반복하여 buildHeap() 알고리즘을 구현한다고 해보자. index가 0인 요소에는 이미 맨 위의 요소이므로 스며오르기를 할 수 없다. 따라서 index가 1인 요소부터 index가 n-1(마지막)인 요소까지 진행한다. 처음 스며오르기를 진행할 땐 대상 노드의 깊이가 얕기 때문에 비교와 교체 작업이 많지 않지만, index가 커질수록 대상 노드의 깊이가 깊어져 스며오르기를 logn번 진행해야 할 수도 있다.\n",
        "n/2 * logn + n/4 * log(n-1) + n/8 * log(n-2) + ... + n/(2**(n-1)) * log2\n",
        "즉, Θ(nlogn)의 시간이 소요된다.\n",
        "이 방법은 Θ(n)의 시간이 소요되는 스며내리기를 이용한 build_heap() 알고리즘보다 비효율적이다."
      ],
      "metadata": {
        "id": "2dQRy2XP4gjl"
      }
    },
    {
      "cell_type": "markdown",
      "source": [
        "##07\n",
        "\n",
        "최대 힙 내에서 임의의 원소의 값이 증가하였을 때, 부모 노드보다 증가한 원소 값이 더 커졌을 수도 있기 때문에 Percolate Up (스며오르기) 과정을 수행한다. 즉, 부모 노드보다 값이 크면 교환을 반복하고 부모 노드보다 더이상 크지 않아 힙을 만족하면 해당 과정을 멈춘다.\n",
        "이때, 최악의 경우 값이 증가한 노드가 루트까지 이동하기 때문에 O(log n) 시간이 소요된다.\n",
        "따라서 O(logn) 시간에 변화를 반영하여 힙을 수선할 수 있다."
      ],
      "metadata": {
        "id": "KnjfV9DG42gl"
      }
    },
    {
      "cell_type": "markdown",
      "source": [
        "# 수행 과제 6: [LeetCode 703.Kth Largest Element in Stream]"
      ],
      "metadata": {
        "id": "SfMwJXPqXaLS"
      }
    },
    {
      "cell_type": "code",
      "source": [
        "class KthLargest:\n",
        "\n",
        "    def __init__(self, k: int, nums: List[int]):\n",
        "        self.k = k\n",
        "        self.heap = nums\n",
        "        heapq.heapify(self.heap)\n",
        "        while len(self.heap) > k:\n",
        "            heapq.heappop(self.heap)\n",
        "\n",
        "\n",
        "    def add(self, val: int) -> int:\n",
        "        heapq.heappush(self.heap, val)\n",
        "        if len(self.heap) > self.k:\n",
        "            heapq.heappop(self.heap)\n",
        "        return self.heap[0]\n",
        "\n",
        "\n",
        "# Your KthLargest object will be instantiated and called as such:\n",
        "# obj = KthLargest(k, nums)\n",
        "# param_1 = obj.add(val)"
      ],
      "metadata": {
        "id": "g-ZeHxIkXmfW",
        "colab": {
          "base_uri": "https://localhost:8080/",
          "height": 332
        },
        "collapsed": true,
        "outputId": "9e32ef66-4220-4c9e-e0f4-82958b8ca43a"
      },
      "execution_count": 45,
      "outputs": [
      ]
    }
  ]
}
