{
  "nbformat": 4,
  "nbformat_minor": 0,
  "metadata": {
    "colab": {
      "provenance": [],
      "authorship_tag": "ABX9TyPd7NR6mDRZaYjkFLLvX+7g",
      "include_colab_link": true
    },
    "kernelspec": {
      "name": "python3",
      "display_name": "Python 3"
    },
    "language_info": {
      "name": "python"
    }
  },
  "cells": [
    {
      "cell_type": "markdown",
      "metadata": {
        "id": "view-in-github",
        "colab_type": "text"
      },
      "source": [
        "<a href=\"https://colab.research.google.com/github/Seoyoung0519/DataStructures_Assignment06/blob/main/SSU_%EA%B0%9C%EC%84%A4_%EA%B0%95%EC%A2%8C_%ED%81%AC%EB%A1%A4%EB%9F%AC.ipynb\" target=\"_parent\"><img src=\"https://colab.research.google.com/assets/colab-badge.svg\" alt=\"Open In Colab\"/></a>"
      ]
    },
    {
      "cell_type": "markdown",
      "source": [
        "# **SSU 개설 강좌 크롤러**"
      ],
      "metadata": {
        "id": "oPhtd1a_U590"
      }
    },
    {
      "cell_type": "markdown",
      "source": [
        "성신여자대학교 수강신청 시스템의 “개설 강좌 조회” 결과를 한 번에 가져와 원하는 컬럼만 골라 .xlsx 로 저장해 주는 파이썬 스크립트이다.\n"
      ],
      "metadata": {
        "id": "QbUuNpspU9Zj"
      }
    },
    {
      "cell_type": "markdown",
      "source": [
        "##**1. 필수 패키지**"
      ],
      "metadata": {
        "id": "66PV8RESVId8"
      }
    },
    {
      "cell_type": "code",
      "execution_count": null,
      "metadata": {
        "id": "YY646CKIUwQS"
      },
      "outputs": [],
      "source": [
        "pip install requests\n",
        "pip install pandas\n",
        "pip install openpyxl"
      ]
    },
    {
      "cell_type": "markdown",
      "source": [
        "## **2. AJAX 엔드포인트 파악**"
      ],
      "metadata": {
        "id": "GcOjrfNEWRyc"
      }
    },
    {
      "cell_type": "markdown",
      "source": [
        "1. 개설강좌 조회 브라우저 F12 → Network(Fetch/XHR) 탭\n",
        "\n",
        "2. “과목 조회” 버튼(실제론 자동 호출) 직후에 발생하는\n",
        "findBCRM02010MainListIn.do 요청 확인\n",
        "\n",
        "3. Headers → Form Data 에 아래 키·값이 보임\n",
        "\n",
        "\n",
        "\n"
      ],
      "metadata": {
        "id": "Qi4HbxqMWYf9"
      }
    },
    {
      "cell_type": "code",
      "source": [
        "yy=2025\n",
        "semCd=COMM063.10\n",
        "orgClsfCd=COMM075.101\n",
        "sbjMngCd=\n",
        "objCrsCd=USSR001.10\n",
        "…\n",
        "charSbjAreaCd=\n"
      ],
      "metadata": {
        "id": "WCVkwrHXWt7x"
      },
      "execution_count": null,
      "outputs": []
    },
    {
      "cell_type": "markdown",
      "source": [
        "--> 이 파라미터 값을 그대로 스크립트의 payload 에 복사"
      ],
      "metadata": {
        "id": "E6wcPW5ZWvNB"
      }
    },
    {
      "cell_type": "markdown",
      "source": [
        "## **3. 스크립트 설명**"
      ],
      "metadata": {
        "id": "gWfoQXJuVp9n"
      }
    },
    {
      "cell_type": "markdown",
      "source": [
        "**주요 포인트**\n",
        "1. Payload\n",
        "\n",
        "- DevTools → Network → Form Data에서 복사한 필터 값을 그대로 사용\n",
        "\n",
        "2. JSON → DataFrame\n",
        "\n",
        "- resp.json() → pd.DataFrame\n",
        "\n",
        "3. 컬럼 선택\n",
        "\n",
        "- df[cols_to_keep] 로 필요 열만 추출\n",
        "\n",
        "4. 컬럼명 한글화\n",
        "\n",
        "- rename() 으로 보기 좋게 변경\n",
        "\n",
        "5. 엑셀 저장\n",
        "\n",
        "- to_excel(..., engine=\"openpyxl\")"
      ],
      "metadata": {
        "id": "Rc-EU-8eV5LT"
      }
    },
    {
      "cell_type": "code",
      "source": [
        "import requests\n",
        "import pandas as pd\n",
        "\n",
        "# — 환경 설정 —\n",
        "URL = \"https://sugang.sungshin.ac.kr/findBCRM02010Main.do\"\n",
        "payload = {\n",
        "    \"yy\":\"2025\",                 # 학년도\n",
        "    \"semCd\":\"COMM063.10\",        # 학기 코드\n",
        "    \"orgClsfCd\":\"COMM075.101\",   # 단과대 코드\n",
        "    \"sbjMngCd\":\"\",               # (빈 값 = 전체)\n",
        "    \"objCrsCd\":\"USSR001.10\",     # 과정 구분 코드\n",
        "    \"dptMjrCd\":\"\",               # 전공 코드 (빈 값 = 전체)\n",
        "    \"sbjNoNm\":\"\",                # 과목명 필터 (빈 값 = 전체)\n",
        "    \"cpdivCd\":\"\", \"cmpCd\":\"\",\n",
        "    \"sbjAreaCd\":\"\", \"charSbjAreaCd\":\"\"\n",
        "}\n",
        "session = requests.Session()\n",
        "session.headers.update({\n",
        "    \"Content-Type\":\"application/x-www-form-urlencoded; charset=UTF-8\"\n",
        "})\n",
        "\n",
        "# 1) API 호출 & JSON 파싱\n",
        "resp = session.post(URL, data=payload)\n",
        "data = resp.json()  # 리스트 of dict\n",
        "\n",
        "# 2) DataFrame 생성\n",
        "df = pd.DataFrame(data)\n",
        "\n",
        "# 3) 원본 컬럼 확인\n",
        "print(df.columns.tolist())\n",
        "\n",
        "# 4) 원하는 컬럼만 서브셋\n",
        "cols_to_keep = [\n",
        "    \"opDptmjrNm\",\"sbjDetCd\",\"sbjNm\",\"dvcls\",\"cpdivNm\",\n",
        "    \"sbjAreaNm\",\"totLmtCnt\",\"cdtExchgPsblYn\",\"cdtHcnt\",\n",
        "    \"tmtblKorDsc\",\"roomKorDsc\",\"profDsc\",\"cmpCdNm\",\n",
        "    \"lesnTypNm\",\"rmkDsc\"\n",
        "]\n",
        "df_subset = df[cols_to_keep]\n",
        "\n",
        "# 5) 한글 컬럼명으로 변경\n",
        "df_subset = df_subset.rename(columns={\n",
        "    \"opDptmjrNm\":\"개설학과전공\",\"sbjDetCd\":\"학수번호\",\n",
        "    \"sbjNm\":\"교과목명\",\"dvcls\":\"분반\",\"cpdivNm\":\"이수구분\",\n",
        "    \"sbjAreaNm\":\"영역\",\"totLmtCnt\":\"수강정원\",\n",
        "    \"cdtExchgPsblYn\":\"학점교류\",\"cdtHcnt\":\"학점/이론/실습\",\n",
        "    \"tmtblKorDsc\":\"시간표\",\"roomKorDsc\":\"강의실\",\n",
        "    \"profDsc\":\"교수\",\"cmpCdNm\":\"캠퍼스\",\"lesnTypNm\":\"수업유형\",\n",
        "    \"rmkDsc\":\"수강안내 및 지정내용\"\n",
        "})\n",
        "\n",
        "# 6) 엑셀로 저장\n",
        "output = \"SSU_개설강좌_필요컬럼만.xlsx\"\n",
        "df_subset.to_excel(output, index=False, engine=\"openpyxl\")\n",
        "print(f\"✅ 저장 완료: {output}\")\n"
      ],
      "metadata": {
        "id": "r3Zvjnf9VtYe"
      },
      "execution_count": null,
      "outputs": []
    },
    {
      "cell_type": "markdown",
      "source": [
        "## **4. SSW 25년 1학기 개설강좌 조회 xlsx 파일**"
      ],
      "metadata": {
        "id": "yBChNI6BVo9w"
      }
    }
  ]
}